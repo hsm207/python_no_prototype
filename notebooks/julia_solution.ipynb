{
 "cells": [
  {
   "cell_type": "markdown",
   "metadata": {},
   "source": [
    "# System Information"
   ]
  },
  {
   "cell_type": "code",
   "execution_count": 1,
   "metadata": {},
   "outputs": [
    {
     "name": "stdout",
     "output_type": "stream",
     "text": [
      "Julia Version 1.3.1\n",
      "Commit 2d5741174c (2019-12-30 21:36 UTC)\n",
      "Platform Info:\n",
      "  OS: Linux (x86_64-pc-linux-gnu)\n",
      "  uname: Linux 4.15.0-1051-aws #53-Ubuntu SMP Wed Sep 18 13:35:53 UTC 2019 x86_64 x86_64\n",
      "  CPU: AMD EPYC 7571: \n",
      "              speed         user         nice          sys         idle          irq\n",
      "       #1  2199 MHz      76736 s         92 s       4521 s    1028038 s          0 s\n",
      "       #2  2199 MHz     108998 s          1 s       4294 s     997057 s          0 s\n",
      "       #3  2199 MHz      99026 s          0 s       5063 s    1006657 s          0 s\n",
      "       #4  2199 MHz     109493 s          0 s       4343 s     996895 s          0 s\n",
      "       #5  2199 MHz     116279 s          0 s       4369 s     990013 s          0 s\n",
      "       #6  2199 MHz      57962 s          7 s       4620 s    1037769 s          0 s\n",
      "       #7  2199 MHz     110355 s       1294 s       5515 s     992989 s          0 s\n",
      "       #8  2199 MHz      99599 s       1276 s       4254 s     994969 s          0 s\n",
      "       \n",
      "  Memory: 31.152629852294922 GB (21470.625 MB free)\n",
      "  Uptime: 11138.0 sec\n",
      "  Load Avg:  0.1884765625  0.18701171875  0.27099609375\n",
      "  WORD_SIZE: 64\n",
      "  LIBM: libopenlibm\n",
      "  LLVM: libLLVM-6.0.1 (ORCJIT, znver1)\n",
      "Environment:\n",
      "  JULIA_DEPOT_PATH = /opt/julia\n",
      "  JULIA_PKGDIR = /opt/julia\n",
      "  JULIA_VERSION = 1.3.1\n",
      "  JULIA_NUM_THREADS = 8\n",
      "  JULIA_DEPOT_PATH = /opt/julia\n",
      "  HOME = /home/jovyan\n",
      "  XDG_CACHE_HOME = /home/jovyan/.cache/\n",
      "  PATH = /opt/conda/bin:/usr/local/sbin:/usr/local/bin:/usr/sbin:/usr/bin:/sbin:/bin\n"
     ]
    }
   ],
   "source": [
    "versioninfo(verbose=true)"
   ]
  },
  {
   "cell_type": "markdown",
   "metadata": {},
   "source": [
    "# Packages"
   ]
  },
  {
   "cell_type": "code",
   "execution_count": 2,
   "metadata": {},
   "outputs": [],
   "source": [
    "using Pkg"
   ]
  },
  {
   "cell_type": "code",
   "execution_count": 3,
   "metadata": {},
   "outputs": [
    {
     "name": "stdout",
     "output_type": "stream",
     "text": [
      "\u001b[32m\u001b[1m  Updating\u001b[22m\u001b[39m registry at `/opt/julia/registries/General`\n",
      "\u001b[32m\u001b[1m  Updating\u001b[22m\u001b[39m git-repo `https://github.com/JuliaRegistries/General.git`\n",
      "\u001b[?25l\u001b[2K\u001b[?25h\u001b[32m\u001b[1m Resolving\u001b[22m\u001b[39m package versions...\n",
      "\u001b[32m\u001b[1m  Updating\u001b[22m\u001b[39m `/opt/julia/environments/v1.3/Project.toml`\n",
      "\u001b[90m [no changes]\u001b[39m\n",
      "\u001b[32m\u001b[1m  Updating\u001b[22m\u001b[39m `/opt/julia/environments/v1.3/Manifest.toml`\n",
      "\u001b[90m [no changes]\u001b[39m\n"
     ]
    }
   ],
   "source": [
    "Pkg.add([\"Distributions\", \"DataFrames\", \"DataStructures\", \"BenchmarkTools\"])"
   ]
  },
  {
   "cell_type": "code",
   "execution_count": 4,
   "metadata": {},
   "outputs": [],
   "source": [
    "using Distributions\n",
    "using DataFrames\n",
    "using DataStructures\n",
    "using BenchmarkTools"
   ]
  },
  {
   "cell_type": "markdown",
   "metadata": {},
   "source": [
    "# Timings"
   ]
  },
  {
   "cell_type": "markdown",
   "metadata": {},
   "source": [
    "Create the dataset:"
   ]
  },
  {
   "cell_type": "code",
   "execution_count": 5,
   "metadata": {},
   "outputs": [
    {
     "data": {
      "text/plain": [
       "6000000"
      ]
     },
     "execution_count": 5,
     "metadata": {},
     "output_type": "execute_result"
    }
   ],
   "source": [
    "N = 6000000"
   ]
  },
  {
   "cell_type": "code",
   "execution_count": 6,
   "metadata": {},
   "outputs": [
    {
     "data": {
      "text/html": [
       "<table class=\"data-frame\"><thead><tr><th></th><th>col1</th><th>col2</th><th>col3</th></tr><tr><th></th><th>Char</th><th>Char</th><th>Int64</th></tr></thead><tbody><p>5 rows × 3 columns</p><tr><th>1</th><td>'G'</td><td>'p'</td><td>4517640</td></tr><tr><th>2</th><td>'J'</td><td>'x'</td><td>3734956</td></tr><tr><th>3</th><td>'B'</td><td>'p'</td><td>1692118</td></tr><tr><th>4</th><td>'Y'</td><td>'y'</td><td>1903604</td></tr><tr><th>5</th><td>'D'</td><td>'l'</td><td>2902956</td></tr></tbody></table>"
      ],
      "text/latex": [
       "\\begin{tabular}{r|ccc}\n",
       "\t& col1 & col2 & col3\\\\\n",
       "\t\\hline\n",
       "\t& Char & Char & Int64\\\\\n",
       "\t\\hline\n",
       "\t1 & 'G' & 'p' & 4517640 \\\\\n",
       "\t2 & 'J' & 'x' & 3734956 \\\\\n",
       "\t3 & 'B' & 'p' & 1692118 \\\\\n",
       "\t4 & 'Y' & 'y' & 1903604 \\\\\n",
       "\t5 & 'D' & 'l' & 2902956 \\\\\n",
       "\\end{tabular}\n"
      ],
      "text/plain": [
       "5×3 DataFrame\n",
       "│ Row │ col1 │ col2 │ col3    │\n",
       "│     │ \u001b[90mChar\u001b[39m │ \u001b[90mChar\u001b[39m │ \u001b[90mInt64\u001b[39m   │\n",
       "├─────┼──────┼──────┼─────────┤\n",
       "│ 1   │ 'G'  │ 'p'  │ 4517640 │\n",
       "│ 2   │ 'J'  │ 'x'  │ 3734956 │\n",
       "│ 3   │ 'B'  │ 'p'  │ 1692118 │\n",
       "│ 4   │ 'Y'  │ 'y'  │ 1903604 │\n",
       "│ 5   │ 'D'  │ 'l'  │ 2902956 │"
      ]
     },
     "execution_count": 6,
     "metadata": {},
     "output_type": "execute_result"
    }
   ],
   "source": [
    "U = DiscreteUniform(1, N)\n",
    "small_cap = 'a':'z'\n",
    "large_cap = 'A':'Z'\n",
    "\n",
    "col1 = rand(large_cap, N)\n",
    "col2 = rand(small_cap, N)\n",
    "col3 = rand(U, N)\n",
    "\n",
    "df = DataFrame(col1 = col1, col2 = col2, col3 = col3)\n",
    "\n",
    "first(df, 5)"
   ]
  },
  {
   "cell_type": "markdown",
   "metadata": {},
   "source": [
    "Naive solution:"
   ]
  },
  {
   "cell_type": "code",
   "execution_count": 7,
   "metadata": {},
   "outputs": [
    {
     "name": "stdout",
     "output_type": "stream",
     "text": [
      "  13.635 s (89997487 allocations: 1.88 GiB)\n"
     ]
    }
   ],
   "source": [
    "results1 = counter(Pair{Char,Char})\n",
    "\n",
    "@btime for (c1, c2, c3) in eachrow(df)\n",
    "    key, val = c1 => c2, c3\n",
    "    results1\n",
    "end"
   ]
  },
  {
   "cell_type": "code",
   "execution_count": 8,
   "metadata": {},
   "outputs": [],
   "source": [
    "results1 = counter(Pair{Char,Char})\n",
    "\n",
    "for (c1, c2, c3) in eachrow(df)\n",
    "    key, val = c1 => c2, c3\n",
    "    results1[key] = results1[key] + val\n",
    "end"
   ]
  },
  {
   "cell_type": "markdown",
   "metadata": {},
   "source": [
    "Faster solution 1:"
   ]
  },
  {
   "cell_type": "code",
   "execution_count": 9,
   "metadata": {},
   "outputs": [],
   "source": [
    "function f(data)\n",
    "    results = counter(Pair{Char,Char})\n",
    "\n",
    "    for (c1, c2, c3) in data\n",
    "        key, val = c1 => c2, c3\n",
    "        results[key] = results[key] + val\n",
    "    end\n",
    "\n",
    "    return results\n",
    "end\n",
    "\n",
    "data = zip(col1, col2, col3)\n",
    "\n",
    "results2 = f(data)\n",
    ";"
   ]
  },
  {
   "cell_type": "code",
   "execution_count": 10,
   "metadata": {},
   "outputs": [
    {
     "name": "stdout",
     "output_type": "stream",
     "text": [
      "  217.914 ms (19 allocations: 92.33 KiB)\n"
     ]
    }
   ],
   "source": [
    "@btime f($data);"
   ]
  },
  {
   "cell_type": "markdown",
   "metadata": {},
   "source": [
    "Faster solution 2:"
   ]
  },
  {
   "cell_type": "code",
   "execution_count": 11,
   "metadata": {},
   "outputs": [],
   "source": [
    "function f(data)\n",
    "    results = counter(Tuple{Char,Char})\n",
    "\n",
    "    for (c1, c2, c3) in data\n",
    "        key, val = (c1, c2), c3\n",
    "        results[key] = results[key] + val\n",
    "    end\n",
    "\n",
    "    return results\n",
    "end\n",
    "\n",
    "data = zip(col1, col2, col3)\n",
    "\n",
    "results3 = f(data)\n",
    ";"
   ]
  },
  {
   "cell_type": "code",
   "execution_count": 12,
   "metadata": {},
   "outputs": [
    {
     "name": "stdout",
     "output_type": "stream",
     "text": [
      "  219.675 ms (19 allocations: 92.33 KiB)\n"
     ]
    }
   ],
   "source": [
    "@btime f(data);"
   ]
  },
  {
   "cell_type": "markdown",
   "metadata": {},
   "source": [
    "Faster solution 3:"
   ]
  },
  {
   "cell_type": "code",
   "execution_count": 13,
   "metadata": {},
   "outputs": [
    {
     "data": {
      "text/html": [
       "<table class=\"data-frame\"><thead><tr><th></th><th>col1</th><th>col2</th><th>col3_sum</th></tr><tr><th></th><th>Char</th><th>Char</th><th>Int64</th></tr></thead><tbody><p>5 rows × 3 columns</p><tr><th>1</th><td>'A'</td><td>'a'</td><td>26159722404</td></tr><tr><th>2</th><td>'A'</td><td>'b'</td><td>26671219965</td></tr><tr><th>3</th><td>'A'</td><td>'c'</td><td>26953084531</td></tr><tr><th>4</th><td>'A'</td><td>'d'</td><td>27163184994</td></tr><tr><th>5</th><td>'A'</td><td>'e'</td><td>27244223854</td></tr></tbody></table>"
      ],
      "text/latex": [
       "\\begin{tabular}{r|ccc}\n",
       "\t& col1 & col2 & col3\\_sum\\\\\n",
       "\t\\hline\n",
       "\t& Char & Char & Int64\\\\\n",
       "\t\\hline\n",
       "\t1 & 'A' & 'a' & 26159722404 \\\\\n",
       "\t2 & 'A' & 'b' & 26671219965 \\\\\n",
       "\t3 & 'A' & 'c' & 26953084531 \\\\\n",
       "\t4 & 'A' & 'd' & 27163184994 \\\\\n",
       "\t5 & 'A' & 'e' & 27244223854 \\\\\n",
       "\\end{tabular}\n"
      ],
      "text/plain": [
       "5×3 DataFrame\n",
       "│ Row │ col1 │ col2 │ col3_sum    │\n",
       "│     │ \u001b[90mChar\u001b[39m │ \u001b[90mChar\u001b[39m │ \u001b[90mInt64\u001b[39m       │\n",
       "├─────┼──────┼──────┼─────────────┤\n",
       "│ 1   │ 'A'  │ 'a'  │ 26159722404 │\n",
       "│ 2   │ 'A'  │ 'b'  │ 26671219965 │\n",
       "│ 3   │ 'A'  │ 'c'  │ 26953084531 │\n",
       "│ 4   │ 'A'  │ 'd'  │ 27163184994 │\n",
       "│ 5   │ 'A'  │ 'e'  │ 27244223854 │"
      ]
     },
     "execution_count": 13,
     "metadata": {},
     "output_type": "execute_result"
    }
   ],
   "source": [
    "results4 = aggregate(df, [:col1, :col2], sum)\n",
    "\n",
    "first(sort!(results4), 5)"
   ]
  },
  {
   "cell_type": "code",
   "execution_count": 14,
   "metadata": {},
   "outputs": [
    {
     "data": {
      "text/plain": [
       "26159722404"
      ]
     },
     "execution_count": 14,
     "metadata": {},
     "output_type": "execute_result"
    }
   ],
   "source": [
    "results3[('A', 'a')]"
   ]
  },
  {
   "cell_type": "code",
   "execution_count": 15,
   "metadata": {},
   "outputs": [
    {
     "name": "stdout",
     "output_type": "stream",
     "text": [
      "  268.707 ms (50069 allocations: 250.23 MiB)\n"
     ]
    }
   ],
   "source": [
    "@btime aggregate($df, [:col1, :col2], sum);"
   ]
  },
  {
   "cell_type": "markdown",
   "metadata": {},
   "source": [
    "Check that all methods give identical results:"
   ]
  },
  {
   "cell_type": "code",
   "execution_count": 16,
   "metadata": {},
   "outputs": [],
   "source": [
    "@assert results1 == results2\n",
    "\n",
    "results2 = begin\n",
    "    c = counter(Tuple{Char, Char})\n",
    "\n",
    "    for (k,v) in results2\n",
    "        c[Tuple(k)] = v\n",
    "    end\n",
    "    c\n",
    "end\n",
    "\n",
    "@assert results2 == results3"
   ]
  }
 ],
 "metadata": {
  "kernelspec": {
   "display_name": "Julia 1.3.1",
   "language": "julia",
   "name": "julia-1.3"
  },
  "language_info": {
   "file_extension": ".jl",
   "mimetype": "application/julia",
   "name": "julia",
   "version": "1.3.1"
  }
 },
 "nbformat": 4,
 "nbformat_minor": 4
}
